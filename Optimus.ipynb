{
  "nbformat": 4,
  "nbformat_minor": 0,
  "metadata": {
    "colab": {
      "provenance": []
    },
    "kernelspec": {
      "name": "python3",
      "display_name": "Python 3"
    },
    "language_info": {
      "name": "python"
    }
  },
  "cells": [
    {
      "cell_type": "markdown",
      "source": [
        "Optimus Model"
      ],
      "metadata": {
        "id": "yhi7kdwc4i6Z"
      }
    },
    {
      "cell_type": "markdown",
      "source": [
        "Peng et al. proposed Optimus scheduler for deep learning clusters which makes use of a predictive model to estimate the remaining time of a training job. Optimus assumes a parameter-server architecture for distributed training where synchronization between parameter server(s) and workers happen after every training step. The time taken to complete one training step on a worker includes the time for doing forward propagation (i.e., loss computation) and backward propagation (i.e., gradients computation) at the worker, the worker pushing gradients to parameter servers, parameter servers updating parameters, and the worker pulling updated parameters from parameter servers, plus extra communication overhead.\n",
        "\n",
        "The predictive model proposed in Optimus is based on two sub-models, one to model the training loss as a function of number of steps and the other to model the training speed (training steps per unit time) as a function of resources (number of workers and parameter servers). The training loss model is given by Equation (1) in the paper. It has three parameters β0, β1, and β2 that needs to be estimated from the data."
      ],
      "metadata": {
        "id": "c-knDkpZ4pjc"
      }
    },
    {
      "cell_type": "markdown",
      "source": [
        "#### Generating data\n",
        "\n",
        "We train Resnet models with different number of layers (18, 20, 32, 44, 56) each with 3 different GPU types (K80, P100, V100). \n",
        "\n",
        "For these runs we use CIFAR10, a batch size of 128, and run each job for 350 epochs.\n",
        "\n",
        "See details of training on train.py"
      ],
      "metadata": {
        "id": "FViBLupy4xla"
      }
    },
    {
      "cell_type": "markdown",
      "source": [
        "#### Loading data"
      ],
      "metadata": {
        "id": "VpxnshDd4unH"
      }
    },
    {
      "cell_type": "code",
      "metadata": {
        "id": "bGC7wZFGqpA-"
      },
      "source": [
        "import os\n",
        "import pandas as pd\n",
        "import numpy as np\n",
        "import matplotlib.pyplot as plt\n",
        "from sklearn.linear_model import LinearRegression\n",
        "from scipy.optimize import curve_fit\n",
        "\n",
        "directory = '/content/drive/MyDrive/DLHW4/results/'\n",
        "models = os.listdir(directory)\n",
        "models = [\n",
        " 'resnet20-p100',\n",
        " 'resnet32-k80',\n",
        " 'resnet56-p100',\n",
        " 'resnet32-p100',\n",
        " 'resnet32-v100',\n",
        " 'resnet44-p100',\n",
        " 'resnet56-v100',\n",
        " 'resnet56-k80',\n",
        " 'resnet44-k80',\n",
        " 'resnet18-p100',\n",
        " 'resnet44-v100',\n",
        " 'resnet18-k80',\n",
        " 'resnet20-k80',\n",
        " 'resnet20-v100',\n",
        " 'resnet18-v100',\n",
        "'resnet50-p100',\n",
        " 'resnet50-k80',\n",
        " 'resnet50-v100']"
      ],
      "execution_count": null,
      "outputs": []
    },
    {
      "cell_type": "code",
      "metadata": {
        "colab": {
          "base_uri": "https://localhost:8080/",
          "height": 456
        },
        "id": "00hkMizRrclm",
        "outputId": "42030581-f809-4e0e-8dde-5b4878182a47"
      },
      "source": [
        "li = []\n",
        "for model in models:\n",
        "  #read in data for the model\n",
        "  txt = model.split(\"-\")\n",
        "  resnet = int(txt[0][-2:])\n",
        "  gpu = txt[1]\n",
        "  path = os.path.join(directory, model, 'results.csv')\n",
        "  df = pd.read_csv(path)\n",
        "  df['resnet_type'] = resnet\n",
        "  df['gpu'] = gpu\n",
        "  li.append(df)\n",
        "\n",
        "results = pd.concat(li, axis=0, ignore_index=True)\n",
        "\n",
        "# Normalize loss values to be between 0 and 1\n",
        "results['validation loss'] = results['validation loss']/np.max(results['validation loss'])\n",
        "results"
      ],
      "execution_count": null,
      "outputs": [
        {
          "output_type": "execute_result",
          "data": {
            "text/html": [
              "<div>\n",
              "<style scoped>\n",
              "    .dataframe tbody tr th:only-of-type {\n",
              "        vertical-align: middle;\n",
              "    }\n",
              "\n",
              "    .dataframe tbody tr th {\n",
              "        vertical-align: top;\n",
              "    }\n",
              "\n",
              "    .dataframe thead th {\n",
              "        text-align: right;\n",
              "    }\n",
              "</style>\n",
              "<table border=\"1\" class=\"dataframe\">\n",
              "  <thead>\n",
              "    <tr style=\"text-align: right;\">\n",
              "      <th></th>\n",
              "      <th>epoch</th>\n",
              "      <th>steps</th>\n",
              "      <th>training step</th>\n",
              "      <th>training data</th>\n",
              "      <th>training loss</th>\n",
              "      <th>training prec1</th>\n",
              "      <th>training prec5</th>\n",
              "      <th>training error1</th>\n",
              "      <th>training error5</th>\n",
              "      <th>validation step</th>\n",
              "      <th>validation data</th>\n",
              "      <th>validation loss</th>\n",
              "      <th>validation prec1</th>\n",
              "      <th>validation prec5</th>\n",
              "      <th>validation error1</th>\n",
              "      <th>validation error5</th>\n",
              "      <th>resnet_type</th>\n",
              "      <th>gpu</th>\n",
              "    </tr>\n",
              "  </thead>\n",
              "  <tbody>\n",
              "    <tr>\n",
              "      <th>0</th>\n",
              "      <td>1</td>\n",
              "      <td>390</td>\n",
              "      <td>0.043203</td>\n",
              "      <td>0.005909</td>\n",
              "      <td>1.722429</td>\n",
              "      <td>34.433093</td>\n",
              "      <td>86.360176</td>\n",
              "      <td>65.566907</td>\n",
              "      <td>13.639824</td>\n",
              "      <td>0.027253</td>\n",
              "      <td>0.016188</td>\n",
              "      <td>0.911111</td>\n",
              "      <td>37.89</td>\n",
              "      <td>85.32</td>\n",
              "      <td>62.11</td>\n",
              "      <td>14.68</td>\n",
              "      <td>20</td>\n",
              "      <td>p100</td>\n",
              "    </tr>\n",
              "    <tr>\n",
              "      <th>1</th>\n",
              "      <td>2</td>\n",
              "      <td>780</td>\n",
              "      <td>0.041745</td>\n",
              "      <td>0.004852</td>\n",
              "      <td>1.234715</td>\n",
              "      <td>55.320513</td>\n",
              "      <td>94.793670</td>\n",
              "      <td>44.679487</td>\n",
              "      <td>5.206330</td>\n",
              "      <td>0.026258</td>\n",
              "      <td>0.015339</td>\n",
              "      <td>0.710129</td>\n",
              "      <td>53.69</td>\n",
              "      <td>93.98</td>\n",
              "      <td>46.31</td>\n",
              "      <td>6.02</td>\n",
              "      <td>20</td>\n",
              "      <td>p100</td>\n",
              "    </tr>\n",
              "    <tr>\n",
              "      <th>2</th>\n",
              "      <td>3</td>\n",
              "      <td>1170</td>\n",
              "      <td>0.042549</td>\n",
              "      <td>0.004841</td>\n",
              "      <td>0.977884</td>\n",
              "      <td>64.679487</td>\n",
              "      <td>96.981170</td>\n",
              "      <td>35.320513</td>\n",
              "      <td>3.018830</td>\n",
              "      <td>0.027678</td>\n",
              "      <td>0.016464</td>\n",
              "      <td>0.577891</td>\n",
              "      <td>62.37</td>\n",
              "      <td>96.90</td>\n",
              "      <td>37.63</td>\n",
              "      <td>3.10</td>\n",
              "      <td>20</td>\n",
              "      <td>p100</td>\n",
              "    </tr>\n",
              "    <tr>\n",
              "      <th>3</th>\n",
              "      <td>4</td>\n",
              "      <td>1560</td>\n",
              "      <td>0.041559</td>\n",
              "      <td>0.004927</td>\n",
              "      <td>0.853930</td>\n",
              "      <td>69.635417</td>\n",
              "      <td>97.734375</td>\n",
              "      <td>30.364583</td>\n",
              "      <td>2.265625</td>\n",
              "      <td>0.027271</td>\n",
              "      <td>0.015469</td>\n",
              "      <td>0.569924</td>\n",
              "      <td>62.12</td>\n",
              "      <td>96.26</td>\n",
              "      <td>37.88</td>\n",
              "      <td>3.74</td>\n",
              "      <td>20</td>\n",
              "      <td>p100</td>\n",
              "    </tr>\n",
              "    <tr>\n",
              "      <th>4</th>\n",
              "      <td>5</td>\n",
              "      <td>1950</td>\n",
              "      <td>0.042220</td>\n",
              "      <td>0.005119</td>\n",
              "      <td>0.753844</td>\n",
              "      <td>73.371394</td>\n",
              "      <td>98.285256</td>\n",
              "      <td>26.628606</td>\n",
              "      <td>1.714744</td>\n",
              "      <td>0.027389</td>\n",
              "      <td>0.016089</td>\n",
              "      <td>0.400937</td>\n",
              "      <td>72.27</td>\n",
              "      <td>98.37</td>\n",
              "      <td>27.73</td>\n",
              "      <td>1.63</td>\n",
              "      <td>20</td>\n",
              "      <td>p100</td>\n",
              "    </tr>\n",
              "    <tr>\n",
              "      <th>...</th>\n",
              "      <td>...</td>\n",
              "      <td>...</td>\n",
              "      <td>...</td>\n",
              "      <td>...</td>\n",
              "      <td>...</td>\n",
              "      <td>...</td>\n",
              "      <td>...</td>\n",
              "      <td>...</td>\n",
              "      <td>...</td>\n",
              "      <td>...</td>\n",
              "      <td>...</td>\n",
              "      <td>...</td>\n",
              "      <td>...</td>\n",
              "      <td>...</td>\n",
              "      <td>...</td>\n",
              "      <td>...</td>\n",
              "      <td>...</td>\n",
              "      <td>...</td>\n",
              "    </tr>\n",
              "    <tr>\n",
              "      <th>5455</th>\n",
              "      <td>66</td>\n",
              "      <td>25740</td>\n",
              "      <td>0.059583</td>\n",
              "      <td>0.005761</td>\n",
              "      <td>0.155884</td>\n",
              "      <td>94.467147</td>\n",
              "      <td>99.941907</td>\n",
              "      <td>5.532853</td>\n",
              "      <td>0.058093</td>\n",
              "      <td>0.034827</td>\n",
              "      <td>0.009799</td>\n",
              "      <td>0.218641</td>\n",
              "      <td>87.42</td>\n",
              "      <td>99.42</td>\n",
              "      <td>12.58</td>\n",
              "      <td>0.58</td>\n",
              "      <td>50</td>\n",
              "      <td>v100</td>\n",
              "    </tr>\n",
              "    <tr>\n",
              "      <th>5456</th>\n",
              "      <td>67</td>\n",
              "      <td>26130</td>\n",
              "      <td>0.060048</td>\n",
              "      <td>0.005244</td>\n",
              "      <td>0.155561</td>\n",
              "      <td>94.395032</td>\n",
              "      <td>99.951923</td>\n",
              "      <td>5.604968</td>\n",
              "      <td>0.048077</td>\n",
              "      <td>0.035926</td>\n",
              "      <td>0.007839</td>\n",
              "      <td>0.227154</td>\n",
              "      <td>87.66</td>\n",
              "      <td>99.60</td>\n",
              "      <td>12.34</td>\n",
              "      <td>0.40</td>\n",
              "      <td>50</td>\n",
              "      <td>v100</td>\n",
              "    </tr>\n",
              "    <tr>\n",
              "      <th>5457</th>\n",
              "      <td>68</td>\n",
              "      <td>26520</td>\n",
              "      <td>0.058589</td>\n",
              "      <td>0.005658</td>\n",
              "      <td>0.162138</td>\n",
              "      <td>94.292869</td>\n",
              "      <td>99.929888</td>\n",
              "      <td>5.707131</td>\n",
              "      <td>0.070112</td>\n",
              "      <td>0.034269</td>\n",
              "      <td>0.008002</td>\n",
              "      <td>0.244448</td>\n",
              "      <td>85.78</td>\n",
              "      <td>99.47</td>\n",
              "      <td>14.22</td>\n",
              "      <td>0.53</td>\n",
              "      <td>50</td>\n",
              "      <td>v100</td>\n",
              "    </tr>\n",
              "    <tr>\n",
              "      <th>5458</th>\n",
              "      <td>69</td>\n",
              "      <td>26910</td>\n",
              "      <td>0.059595</td>\n",
              "      <td>0.005357</td>\n",
              "      <td>0.147321</td>\n",
              "      <td>94.735577</td>\n",
              "      <td>99.955929</td>\n",
              "      <td>5.264423</td>\n",
              "      <td>0.044071</td>\n",
              "      <td>0.035110</td>\n",
              "      <td>0.008186</td>\n",
              "      <td>0.192098</td>\n",
              "      <td>89.06</td>\n",
              "      <td>99.67</td>\n",
              "      <td>10.94</td>\n",
              "      <td>0.33</td>\n",
              "      <td>50</td>\n",
              "      <td>v100</td>\n",
              "    </tr>\n",
              "    <tr>\n",
              "      <th>5459</th>\n",
              "      <td>70</td>\n",
              "      <td>27300</td>\n",
              "      <td>0.059005</td>\n",
              "      <td>0.005502</td>\n",
              "      <td>0.154588</td>\n",
              "      <td>94.609375</td>\n",
              "      <td>99.927885</td>\n",
              "      <td>5.390625</td>\n",
              "      <td>0.072115</td>\n",
              "      <td>0.034885</td>\n",
              "      <td>0.008417</td>\n",
              "      <td>0.234807</td>\n",
              "      <td>87.49</td>\n",
              "      <td>99.34</td>\n",
              "      <td>12.51</td>\n",
              "      <td>0.66</td>\n",
              "      <td>50</td>\n",
              "      <td>v100</td>\n",
              "    </tr>\n",
              "  </tbody>\n",
              "</table>\n",
              "<p>5460 rows × 18 columns</p>\n",
              "</div>"
            ],
            "text/plain": [
              "      epoch  steps  training step  ...  validation error5  resnet_type   gpu\n",
              "0         1    390       0.043203  ...              14.68           20  p100\n",
              "1         2    780       0.041745  ...               6.02           20  p100\n",
              "2         3   1170       0.042549  ...               3.10           20  p100\n",
              "3         4   1560       0.041559  ...               3.74           20  p100\n",
              "4         5   1950       0.042220  ...               1.63           20  p100\n",
              "...     ...    ...            ...  ...                ...          ...   ...\n",
              "5455     66  25740       0.059583  ...               0.58           50  v100\n",
              "5456     67  26130       0.060048  ...               0.40           50  v100\n",
              "5457     68  26520       0.058589  ...               0.53           50  v100\n",
              "5458     69  26910       0.059595  ...               0.33           50  v100\n",
              "5459     70  27300       0.059005  ...               0.66           50  v100\n",
              "\n",
              "[5460 rows x 18 columns]"
            ]
          },
          "metadata": {},
          "execution_count": 191
        }
      ]
    },
    {
      "cell_type": "markdown",
      "source": [
        "#### Calibrating a loss model based on gpu and steps\n",
        "\n",
        "This gives us the parameters (β0, β1, β2)"
      ],
      "metadata": {
        "id": "x7aZmJYh5JOg"
      }
    },
    {
      "cell_type": "code",
      "metadata": {
        "colab": {
          "base_uri": "https://localhost:8080/"
        },
        "id": "L8QllV-wM7IG",
        "outputId": "108f4d39-d3aa-41da-a395-b5ba1176fa17"
      },
      "source": [
        "def func(k, beta0, beta1, beta2):\n",
        "    return 1./(beta0 * k + beta1) + beta2 \n",
        "\n",
        "#check for resnet 18 and k80 gpu\n",
        "x = results[(results.resnet_type == resnets[0]) & (results.gpu == gpu[0])]['steps']\n",
        "y = results[(results.resnet_type == resnets[0]) & (results.gpu == gpu[0])]['validation loss']\n",
        "\n",
        "popt, pocv = curve_fit(func, x, y)\n",
        "print(popt[0],popt[1],popt[2])\n",
        "\n",
        "from scipy.optimize import curve_fit\n",
        "popt, pcov = curve_fit(func, x, y, p0=[0.001, 0.1, 1]) \n",
        "print(\"beta0, beta1, beta2: \", popt)\n",
        "\n",
        "fitted = func(x, *popt)\n",
        "plt.plot(x,y, label = 'train loss')\n",
        "plt.legend('training loss')\n",
        "plt.plot(x, fitted, label = 'fit')\n",
        "plt.legend()\n",
        "plt.title('Resnet 20 on K80 GPU')\n",
        "plt.show()\n"
      ],
      "execution_count": null,
      "outputs": [
        {
          "output_type": "stream",
          "name": "stdout",
          "text": [
            "-88660.36460267636 -26058712.92425362 0.2122091224214841\n",
            "beta0, beta1, beta2:  [0.00115982 1.03799221 0.18168209]\n"
          ]
        }
      ]
    },
    {
      "cell_type": "code",
      "metadata": {
        "colab": {
          "base_uri": "https://localhost:8080/"
        },
        "id": "Lc5zjvl_cX-q",
        "outputId": "112ec848-9ca3-4e1c-f516-2863cefa0c5c"
      },
      "source": [
        "X = pd.get_dummies(data=fit_df[['resnet_type','gpu']])\n",
        "print(X)"
      ],
      "execution_count": null,
      "outputs": [
        {
          "output_type": "stream",
          "name": "stdout",
          "text": [
            "    resnet_type  gpu_k80  gpu_p100  gpu_v100\n",
            "0            18        1         0         0\n",
            "1            20        1         0         0\n",
            "2            32        1         0         0\n",
            "3            44        1         0         0\n",
            "4            56        1         0         0\n",
            "5            18        0         1         0\n",
            "6            20        0         1         0\n",
            "7            32        0         1         0\n",
            "8            44        0         1         0\n",
            "9            56        0         1         0\n",
            "10           18        0         0         1\n",
            "11           20        0         0         1\n",
            "12           32        0         0         1\n",
            "13           44        0         0         1\n",
            "14           56        0         0         1\n"
          ]
        }
      ]
    },
    {
      "cell_type": "markdown",
      "source": [
        "#### Second Model\n",
        "We use a regression model on the data from 15 models to predict the value of the parameters as a function of number of layers in Resnet and GPU type"
      ],
      "metadata": {
        "id": "MjUK3H7d5nvh"
      }
    },
    {
      "cell_type": "code",
      "metadata": {
        "id": "qcFyHeymBlDg"
      },
      "source": [
        "from sklearn.linear_model import LinearRegression\n",
        "\n",
        "betas = ['beta0', 'beta1', 'beta2']\n",
        "weights = {}\n",
        "intercept = {}\n",
        "\n",
        "#run regression for each beta & store the weights\n",
        "for beta in betas:\n",
        "  y_b = fit_df[beta]\n",
        "  model = LinearRegression()\n",
        "  model.fit(X,y_b)\n",
        "  b_weights = model.coef_\n",
        "  b_int = model.intercept_\n",
        "\n",
        "  weights[beta] = b_weights\n",
        "  intercept[beta] = b_int\n",
        "print(weights)\n",
        "\n",
        "#get features\n",
        "def get_features(resnet_type, gpu):\n",
        "  feat = [resnet_type,0,0,0]\n",
        "  if(gpu =='k80'):\n",
        "    feat[1] = 1\n",
        "  elif(gpu =='p100'):\n",
        "    feat[2] = 1\n",
        "  else:\n",
        "    feat[3] =1\n",
        "  return feat\n",
        "\n",
        "#make prediction\n",
        "def pred_betas(resnet_type, gpu):\n",
        "  x = get_features(resnet_type, gpu)\n",
        "  beta_pred = []\n",
        "  for beta in betas:\n",
        "      beta_pred.append(np.dot(weights[beta],x) + intercept[beta])\n",
        "  return beta_pred"
      ],
      "execution_count": null,
      "outputs": []
    },
    {
      "cell_type": "code",
      "metadata": {
        "colab": {
          "base_uri": "https://localhost:8080/"
        },
        "id": "ycKh_YiUCv-H",
        "outputId": "1a6981f1-7374-4fa1-e904-48881bf48f01"
      },
      "source": [
        "#resnet-50: k80, v100, and p100\n",
        "print('resnet 50')\n",
        "#k80\n",
        "beta_k80 =  pred_betas(50, 'k80')\n",
        "print('k80 -----' , beta_k80)\n",
        "\n",
        "#p100\n",
        "beta_p100= pred_betas(50, 'p100')\n",
        "print('p100 -----' , beta_p100)\n",
        "\n",
        "#v100\n",
        "beta_v100= pred_betas(50, 'v100')\n",
        "print('v100 -----' , beta_v100)\n"
      ],
      "execution_count": null,
      "outputs": [
        {
          "output_type": "stream",
          "name": "stdout",
          "text": [
            "resnet 50\n",
            "k80 ----- [0.0017510030965049014, 0.8609535331356217, 0.17174845281728882]\n",
            "p100 ----- [0.0016824166483081211, 0.9852815305344742, 0.17210937317353522]\n",
            "v100 ----- [0.0016413461428303477, 1.0976642414169053, 0.17031963621319834]\n"
          ]
        }
      ]
    },
    {
      "cell_type": "markdown",
      "source": [
        "#### Predict the training loss curve for Resnet-50\n",
        "\n",
        "We see that number of epochs required to reach convergence is independent of hardware."
      ],
      "metadata": {
        "id": "z0Cupn-a54d2"
      }
    },
    {
      "cell_type": "code",
      "metadata": {
        "colab": {
          "base_uri": "https://localhost:8080/",
          "height": 962
        },
        "id": "SxIJmd3Rmfzb",
        "outputId": "6a5f03c7-db77-4038-dc32-11c44cf9a29b"
      },
      "source": [
        "#get predicted curve vs actual curve for resnet 50\n",
        "#doing 89% accuracy, as I did not have time to run to 92%\n",
        "\n",
        "from sklearn.metrics import mean_squared_error\n",
        "gpu = ['k80', 'p100', 'v100']\n",
        "\n",
        "res50_subset = results[(results.resnet_type == 50) & (results['validation prec1'] <= 89.00)]\n",
        "\n",
        "for g in gpu:\n",
        "  #get actual fit curves\n",
        "  x = res50_subset[res50_subset.gpu == g]['steps']\n",
        "  y = res50_subset[res50_subset.gpu == g]['validation loss']\n",
        "  plt.plot(x,y, label = 'train loss')\n",
        "  fitted = func(x, beta_k80[0], beta_k80[1], beta_k80[2])\n",
        "\n",
        "  err = mean_squared_error(y, fitted)*100\n",
        "  print('percentage error ' ,err)\n",
        "\n",
        "  plt.plot(x, fitted, label = 'predicted train loss')\n",
        "  plt.title('resnet 50, gpu {}'.format(g))\n",
        "  plt.legend()\n",
        "  plt.show()\n",
        "\n",
        "  max_acc = np.max(res50_subset[res50_subset.gpu == g]['validation prec1'])\n",
        "  print('max validation accuracy ', max_acc)\n",
        "  max_epoch = res50_subset[res50_subset['validation prec1'] == max_acc]['epoch']\n",
        "  print('max epoch ', max_epoch.values[0])\n"
      ],
      "execution_count": null,
      "outputs": [
        {
          "output_type": "stream",
          "name": "stdout",
          "text": [
            "percentage error  0.23969102699545144\n"
          ]
        },
        {
          "output_type": "display_data",
          "data": {
            "image/png": "[encoded data removed]",
            "text/plain": [
              "<Figure size 432x288 with 1 Axes>"
            ]
          },
          "metadata": {
            "needs_background": "light"
          }
        },
        {
          "output_type": "stream",
          "name": "stdout",
          "text": [
            "max validation accuracy  88.75\n",
            "max epoch  60\n",
            "percentage error  0.19566639737959982\n"
          ]
        },
        {
          "output_type": "display_data",
          "data": {
            "image/png": "[encoded data removed]",
            "text/plain": [
              "<Figure size 432x288 with 1 Axes>"
            ]
          },
          "metadata": {
            "needs_background": "light"
          }
        },
        {
          "output_type": "stream",
          "name": "stdout",
          "text": [
            "max validation accuracy  88.88\n",
            "max epoch  57\n",
            "percentage error  0.11575103421405894\n"
          ]
        },
        {
          "output_type": "display_data",
          "data": {
            "image/png": "[encoded data removed]",
            "text/plain": [
              "<Figure size 432x288 with 1 Axes>"
            ]
          },
          "metadata": {
            "needs_background": "light"
          }
        },
        {
          "output_type": "stream",
          "name": "stdout",
          "text": [
            "max validation accuracy  88.74\n",
            "max epoch  49\n"
          ]
        }
      ]
    },
    {
      "cell_type": "code",
      "metadata": {
        "colab": {
          "base_uri": "https://localhost:8080/",
          "height": 134
        },
        "id": "lErSNtgRymM4",
        "outputId": "0a4903ef-517c-4ca1-bc62-2bead66e2a59"
      },
      "source": [
        "  max_acc = np.max(res50_subset[res50_subset.gpu == 'k80']['validation prec1'])\n",
        "  print('max validation accuracy ', max_acc)\n",
        "  max_epoch = res50_subset[res50_subset['validation prec1'] == max_acc]\n",
        "  max_epoch\n",
        "  print('max epoch ', max_epoch.values[0])"
      ],
      "execution_count": null,
      "outputs": [
        {
          "output_type": "stream",
          "name": "stdout",
          "text": [
            "max validation accuracy  88.75\n"
          ]
        },
        {
          "output_type": "execute_result",
          "data": {
            "text/html": [
              "<div>\n",
              "<style scoped>\n",
              "    .dataframe tbody tr th:only-of-type {\n",
              "        vertical-align: middle;\n",
              "    }\n",
              "\n",
              "    .dataframe tbody tr th {\n",
              "        vertical-align: top;\n",
              "    }\n",
              "\n",
              "    .dataframe thead th {\n",
              "        text-align: right;\n",
              "    }\n",
              "</style>\n",
              "<table border=\"1\" class=\"dataframe\">\n",
              "  <thead>\n",
              "    <tr style=\"text-align: right;\">\n",
              "      <th></th>\n",
              "      <th>epoch</th>\n",
              "      <th>steps</th>\n",
              "      <th>training step</th>\n",
              "      <th>training data</th>\n",
              "      <th>training loss</th>\n",
              "      <th>training prec1</th>\n",
              "      <th>training prec5</th>\n",
              "      <th>training error1</th>\n",
              "      <th>training error5</th>\n",
              "      <th>validation step</th>\n",
              "      <th>validation data</th>\n",
              "      <th>validation loss</th>\n",
              "      <th>validation prec1</th>\n",
              "      <th>validation prec5</th>\n",
              "      <th>validation error1</th>\n",
              "      <th>validation error5</th>\n",
              "      <th>resnet_type</th>\n",
              "      <th>gpu</th>\n",
              "    </tr>\n",
              "  </thead>\n",
              "  <tbody>\n",
              "    <tr>\n",
              "      <th>5379</th>\n",
              "      <td>60</td>\n",
              "      <td>23400</td>\n",
              "      <td>0.171591</td>\n",
              "      <td>0.001459</td>\n",
              "      <td>0.169998</td>\n",
              "      <td>93.882212</td>\n",
              "      <td>99.917869</td>\n",
              "      <td>6.117788</td>\n",
              "      <td>0.082131</td>\n",
              "      <td>0.062918</td>\n",
              "      <td>0.008687</td>\n",
              "      <td>0.194487</td>\n",
              "      <td>88.75</td>\n",
              "      <td>99.48</td>\n",
              "      <td>11.25</td>\n",
              "      <td>0.52</td>\n",
              "      <td>50</td>\n",
              "      <td>k80</td>\n",
              "    </tr>\n",
              "  </tbody>\n",
              "</table>\n",
              "</div>"
            ],
            "text/plain": [
              "      epoch  steps  training step  ...  validation error5  resnet_type  gpu\n",
              "5379     60  23400       0.171591  ...               0.52           50  k80\n",
              "\n",
              "[1 rows x 18 columns]"
            ]
          },
          "metadata": {},
          "execution_count": 233
        }
      ]
    },
    {
      "cell_type": "markdown",
      "source": [
        "max epoch to reach 88% accuracy seem to be around 57-60 for p100 and k80.\n",
        "\n",
        "Both P100 and K80 were run on colab but v100 was on GCP.\n",
        "The max epoch on V100 is likely different because of this. "
      ],
      "metadata": {
        "id": "wC24VNJS4FBo"
      }
    },
    {
      "cell_type": "markdown",
      "metadata": {
        "id": "j6PovzVawN7V"
      },
      "source": [
        "## Time to accuracy for Resnet-50\n",
        "\n",
        "$f(p,w)=(θ_{0}·\\frac{M}{w}+θ_{1}+θ_{2}·\\frac{w}{p}+θ_{3}·w+θ_{4}·p)^{-1}$\n",
        "\n",
        "Coefficients-\n",
        "\n",
        "$θ_{0} = 1.02$ <br/>\n",
        "$θ_{1} = 2.73$ <br/>\n",
        "$θ_{2} = 4.92$ <br/>\n",
        "$θ_{3} = 0.00$ <br/>\n",
        "$θ_{4} = 0.02$ <br/>\n",
        "\n",
        "\n",
        "M = 64<br/>\n",
        "\n",
        "2 parameter server options <br/>\n",
        "p = [2,4]\n",
        "\n",
        "Vary worker w from 0 to 20<br/>\n",
        "w = range(0,20)\n",
        "\n",
        "\n"
      ]
    },
    {
      "cell_type": "code",
      "metadata": {
        "colab": {
          "base_uri": "https://localhost:8080/",
          "height": 279
        },
        "id": "v3FY3RSLvtRQ",
        "outputId": "3e512586-e9e4-4f35-fdef-0ec105c65686"
      },
      "source": [
        "import math\n",
        "\n",
        "def resource_model(M, p,w):\n",
        "  #training speed function for synchronous training\n",
        "  theta0 = 1.02\n",
        "  theta1 = 2.73\n",
        "  theta2 = 4.92\n",
        "  theta3= 0.00\n",
        "  theta4=0.02\n",
        "\n",
        "  fn = theta0*(M/w)+theta1+theta2*(w/p) + theta3*w + theta4*p\n",
        "  return 1/fn\n",
        "\n",
        "fn_ps2 = [resource_model(64, 2,w) for w in range(1,20)]\n",
        "\n",
        "plt.plot(range(1,20), fn_ps2, label ='ps = 2')\n",
        "\n",
        "fn_ps4 = [resource_model(64, 4,w) for w in range(1,20)]\n",
        "\n",
        "plt.plot(range(1,20), fn_ps4, label = 'ps = 4')\n",
        "plt.legend()\n",
        "plt.ylabel('f steps/s')\n",
        "plt.xlabel('number of workers w')\n",
        "plt.show()\n",
        "\n",
        "\n",
        "\n"
      ],
      "execution_count": null,
      "outputs": [
        {
          "output_type": "display_data",
          "data": {
            "image/png": "[encoded data removed]",
            "text/plain": [
              "<Figure size 432x288 with 1 Axes>"
            ]
          },
          "metadata": {
            "needs_background": "light"
          }
        }
      ]
    },
    {
      "cell_type": "markdown",
      "metadata": {
        "id": "7aYntzCW3y-i"
      },
      "source": [
        "f gives us steps/second\n",
        "\n",
        "If we say we need 25,000 steps to converge, the the time needed to converge is"
      ]
    },
    {
      "cell_type": "code",
      "metadata": {
        "colab": {
          "base_uri": "https://localhost:8080/",
          "height": 295
        },
        "id": "Pd6JDUoV3BJG",
        "outputId": "908c6fb3-e69e-4a69-f689-b094b18e9b46"
      },
      "source": [
        "def resource_model(M, p,w):\n",
        "  STEPS = 25000\n",
        "  #training speed function for synchronous training\n",
        "  theta0 = 1.02\n",
        "  theta1 = 2.73\n",
        "  theta2 = 4.92\n",
        "  theta3= 0.00\n",
        "  theta4=0.02\n",
        "  \n",
        "  #fn gives seconds/step\n",
        "  fn = theta0*(M/w)+theta1+theta2*(w/p) + theta3*w + theta4*p\n",
        "  #multiply by number of steps to get total seconds \n",
        "  return fn*STEPS\n",
        "\n",
        "fn_ps2 = [resource_model(64, 2,w) for w in range(1,20)]\n",
        "\n",
        "plt.plot(range(1,20), fn_ps2, label ='ps = 2')\n",
        "\n",
        "fn_ps4 = [resource_model(64, 4,w) for w in range(1,20)]\n",
        "\n",
        "plt.plot(range(1,20), fn_ps4, label = 'ps = 4')\n",
        "plt.legend()\n",
        "plt.ylabel('seconds ')\n",
        "plt.xlabel('number of workers w')\n",
        "plt.title('time to train')\n",
        "plt.show()\n"
      ],
      "execution_count": null,
      "outputs": [
        {
          "output_type": "display_data",
          "data": {
            "image/png": "[encoded data removed]",
            "text/plain": [
              "<Figure size 432x288 with 1 Axes>"
            ]
          },
          "metadata": {
            "needs_background": "light"
          }
        }
      ]
    }
  ]
}